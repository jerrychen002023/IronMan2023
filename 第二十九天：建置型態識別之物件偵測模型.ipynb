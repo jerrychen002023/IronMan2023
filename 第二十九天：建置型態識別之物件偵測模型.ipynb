{
  "cells": [
    {
      "cell_type": "markdown",
      "metadata": {
        "id": "GE_abWdngUQj"
      },
      "source": [
        "**這個記事本只能在Google Colab中使用**  \n",
        "這個記事本為技術型態識別之物件偵測模型之建置程序，程序是參照「[TensorFlow 2 Object Detection API With Google Colab](https://medium.com/swlh/tensorflow-2-object-detection-api-with-google-colab-b2af171e81cc)」的步驟；並由「[第二十七天：簡述物件偵測技術.ipynb](https://github.com/yilintung/IronMan2023/blob/main/%E7%AC%AC%E4%BA%8C%E5%8D%81%E4%B8%83%E5%A4%A9%EF%BC%9A%E7%B0%A1%E8%BF%B0%E7%89%A9%E4%BB%B6%E5%81%B5%E6%B8%AC%E6%8A%80%E8%A1%93.ipynb)」進行修改。  "
      ]
    },
    {
      "cell_type": "code",
      "execution_count": null,
      "metadata": {
        "id": "3Si3sOwi7e06"
      },
      "outputs": [],
      "source": [
        "#步驟4 ： 掛載Google雲端硬碟\n",
        "\n",
        "from google.colab import drive\n",
        "drive.mount('/content/gdrive')"
      ]
    },
    {
      "cell_type": "code",
      "execution_count": null,
      "metadata": {
        "id": "0dW4lm8371iZ"
      },
      "outputs": [],
      "source": [
        "#步驟5 ： 下載TensorFlow Model Garden\n",
        "\n",
        "%cd '/content/gdrive/My Drive/TensorFlow'\n",
        "\n",
        "!git clone https://github.com/tensorflow/models.git"
      ]
    },
    {
      "cell_type": "code",
      "execution_count": null,
      "metadata": {
        "id": "So0uPn6C8j-Z"
      },
      "outputs": [],
      "source": [
        "#步驟6 ： 安裝一些必要工具\n",
        "\n",
        "!apt-get install protobuf-compiler\n",
        "!pip install lxml\n",
        "!pip install Pillow\n",
        "\n",
        "!pip install Cython pandas tf-slim lvis"
      ]
    },
    {
      "cell_type": "code",
      "execution_count": null,
      "metadata": {
        "id": "0BI9kNtN9Hca"
      },
      "outputs": [],
      "source": [
        "#步驟7 ： 編譯Protobuf程式庫\n",
        "\n",
        "#cd into 'TensorFlow/models/research'\n",
        "%cd '/content/gdrive/My Drive/TensorFlow/models/research/'\n",
        "!protoc object_detection/protos/*.proto --python_out=."
      ]
    },
    {
      "cell_type": "code",
      "execution_count": null,
      "metadata": {
        "id": "wEAg3ksA9Pih"
      },
      "outputs": [],
      "source": [
        "#步驟8 ： 設定環境\n",
        "\n",
        "import os\n",
        "import sys\n",
        "os.environ['PYTHONPATH']+=\":/content/gdrive/My Drive/TensorFlow/models\"\n",
        "sys.path.append(\"/content/gdrive/My Drive/TensorFlow/models/research\")"
      ]
    },
    {
      "cell_type": "code",
      "execution_count": null,
      "metadata": {
        "id": "UT9-acjE9d2K"
      },
      "outputs": [],
      "source": [
        "##步驟9 ： 構建並安裝setup.py\n",
        "\n",
        "!cp object_detection/packages/tf2/setup.py .\n",
        "!python -m pip install ."
      ]
    },
    {
      "cell_type": "code",
      "execution_count": null,
      "metadata": {
        "id": "7M5qUba89u3S"
      },
      "outputs": [],
      "source": [
        "#步驟10 ： 測試安裝\n",
        "\n",
        "#cd into 'TensorFlow/models/research/object_detection/builders/'\n",
        "%cd '/content/gdrive/My Drive/TensorFlow/models/research/object_detection/builders/'\n",
        "!python model_builder_tf2_test.py\n",
        "from object_detection.utils import label_map_util\n",
        "from object_detection.utils import visualization_utils as viz_utils\n",
        "print('Done')"
      ]
    },
    {
      "cell_type": "code",
      "execution_count": null,
      "metadata": {
        "id": "h5C5-PCp-elV"
      },
      "outputs": [],
      "source": [
        "#步驟11 ： 產生TFrecords\n",
        "\n",
        "%cd '/content/gdrive/My Drive/TensorFlow/scripts/preprocessing'\n",
        "\n",
        "!python generate_tfrecord.py -x '/content/gdrive/My Drive/TensorFlow/workspace/stock_pattern_recorginition/images/train' -l '/content/gdrive/My Drive/TensorFlow/workspace/stock_pattern_recorginition/annotations/label_map.pbtxt' -o '/content/gdrive/My Drive/TensorFlow/workspace/stock_pattern_recorginition/annotations/train.record'\n",
        "!python generate_tfrecord.py -x '/content/gdrive/My Drive/TensorFlow/workspace/stock_pattern_recorginition/images/test' -l '/content/gdrive/My Drive/TensorFlow/workspace/stock_pattern_recorginition/annotations/label_map.pbtxt' -o '/content/gdrive/My Drive/TensorFlow/workspace/stock_pattern_recorginition/annotations/test.record'"
      ]
    },
    {
      "cell_type": "code",
      "execution_count": null,
      "metadata": {
        "id": "7JISAAfK-inS"
      },
      "outputs": [],
      "source": [
        "#步驟14 ： 啟動TensorBoard\n",
        "\n",
        "%cd '/content/gdrive/My Drive/TensorFlow/workspace/stock_pattern_recorginition'\n",
        "\n",
        "%load_ext tensorboard\n",
        "%tensorboard --logdir=models/my_ssd_mobilenet_v2"
      ]
    },
    {
      "cell_type": "code",
      "execution_count": null,
      "metadata": {
        "id": "yFLP5SUS-vYa"
      },
      "outputs": [],
      "source": [
        "#步驟15 ： 訓練模型\n",
        "\n",
        "!python model_main_tf2.py --model_dir=models/my_ssd_mobilenet_v2 --pipeline_config_path=models/my_ssd_mobilenet_v2/pipeline.config"
      ]
    },
    {
      "cell_type": "code",
      "execution_count": null,
      "metadata": {
        "id": "zDSirOAQ-0sy"
      },
      "outputs": [],
      "source": [
        "#步驟16 - 導出經過訓練的模型\n",
        "\n",
        "!python exporter_main_v2.py --input_type image_tensor --pipeline_config_path ./models/my_ssd_mobilenet_v2/pipeline.config --trained_checkpoint_dir ./models/my_ssd_mobilenet_v2/ --output_directory ./exported-models/my_model"
      ]
    },
    {
      "cell_type": "code",
      "execution_count": null,
      "metadata": {
        "id": "nz2jiOgJ4mUK"
      },
      "outputs": [],
      "source": [
        "#步驟17 - 測試模型\n",
        "\n",
        "import tensorflow as tf\n",
        "import time\n",
        "from object_detection.utils import label_map_util\n",
        "from object_detection.utils import visualization_utils as viz_utils\n",
        "\n",
        "PATH_TO_SAVED_MODEL=\"/content/gdrive/My Drive/TensorFlow/workspace/stock_pattern_recorginition/exported-models/my_model/saved_model\"\n",
        "\n",
        "print('Loading model...', end='')\n",
        "\n",
        "detect_fn=tf.saved_model.load(PATH_TO_SAVED_MODEL)\n",
        "\n",
        "print('Done!')"
      ]
    },
    {
      "cell_type": "code",
      "execution_count": null,
      "metadata": {
        "id": "sX--5tHy4-S1"
      },
      "outputs": [],
      "source": [
        "#步驟18 - 測試模型\n",
        "\n",
        "category_index=label_map_util.create_category_index_from_labelmap(\"/content/gdrive/My Drive/TensorFlow/workspace/stock_pattern_recorginition/annotations/label_map.pbtxt\",use_display_name=True)"
      ]
    },
    {
      "cell_type": "code",
      "execution_count": null,
      "metadata": {
        "id": "UURD_H_c5grh"
      },
      "outputs": [],
      "source": [
        "#步驟19 - 測試模型\n",
        "\n",
        "img=['/content/img1.jpg','/content/img2.jpg']\n",
        "print(img)"
      ]
    },
    {
      "cell_type": "code",
      "execution_count": null,
      "metadata": {
        "id": "tNLxnQNa54d_"
      },
      "outputs": [],
      "source": [
        "#步驟20 - 執行推論\n",
        "\n",
        "import numpy as np\n",
        "from PIL import Image\n",
        "import matplotlib.pyplot as plt\n",
        "import warnings\n",
        "warnings.filterwarnings('ignore')   # Suppress Matplotlib warnings\n",
        "\n",
        "def load_image_into_numpy_array(path):\n",
        "    \"\"\"Load an image from file into a numpy array.\n",
        "\n",
        "    Puts image into numpy array to feed into tensorflow graph.\n",
        "    Note that by convention we put it into a numpy array with shape\n",
        "    (height, width, channels), where channels=3 for RGB.\n",
        "\n",
        "    Args:\n",
        "      path: the file path to the image\n",
        "\n",
        "    Returns:\n",
        "      uint8 numpy array with shape (img_height, img_width, 3)\n",
        "    \"\"\"\n",
        "    return np.array(Image.open(path))\n",
        "\n",
        "for image_path in img:\n",
        "\n",
        "    print('Running inference for {}... '.format(image_path), end='')\n",
        "    image_np=load_image_into_numpy_array(image_path)\n",
        "\n",
        "    # Things to try:\n",
        "    # Flip horizontally\n",
        "    # image_np = np.fliplr(image_np).copy()\n",
        "    # Convert image to grayscale\n",
        "    # image_np = np.tile(\n",
        "    #     np.mean(image_np, 2, keepdims=True), (1, 1, 3)).astype(np.uint8)\n",
        "\n",
        "    # The input needs to be a tensor, convert it using `tf.convert_to_tensor`.\n",
        "    input_tensor=tf.convert_to_tensor(image_np)\n",
        "    # The model expects a batch of images, so add an axis with `tf.newaxis`.\n",
        "    input_tensor=input_tensor[tf.newaxis, ...]\n",
        "\n",
        "    # input_tensor = np.expand_dims(image_np, 0)\n",
        "    detections=detect_fn(input_tensor)\n",
        "\n",
        "    # All outputs are batches tensors.\n",
        "    # Convert to numpy arrays, and take index [0] to remove the batch dimension.\n",
        "    # We're only interested in the first num_detections.\n",
        "    num_detections=int(detections.pop('num_detections'))\n",
        "    detections={key:value[0,:num_detections].numpy()\n",
        "                   for key,value in detections.items()}\n",
        "    detections['num_detections']=num_detections\n",
        "\n",
        "    # detection_classes should be ints.\n",
        "    detections['detection_classes']=detections['detection_classes'].astype(np.int64)\n",
        "\n",
        "    image_np_with_detections=image_np.copy()\n",
        "\n",
        "    viz_utils.visualize_boxes_and_labels_on_image_array(\n",
        "          image_np_with_detections,\n",
        "          detections['detection_boxes'],\n",
        "          detections['detection_classes'],\n",
        "          detections['detection_scores'],\n",
        "          category_index,\n",
        "          use_normalized_coordinates=True,\n",
        "          max_boxes_to_draw=1,     #max number of bounding boxes in the image\n",
        "          min_score_thresh=.3,      #min prediction threshold\n",
        "          agnostic_mode=False)\n",
        "    %matplotlib inline\n",
        "    plt.figure()\n",
        "    plt.imshow(image_np_with_detections)\n",
        "    print('Done')\n",
        "    plt.show()"
      ]
    }
  ],
  "metadata": {
    "accelerator": "GPU",
    "colab": {
      "machine_shape": "hm",
      "provenance": []
    },
    "kernelspec": {
      "display_name": "Python 3",
      "name": "python3"
    }
  },
  "nbformat": 4,
  "nbformat_minor": 0
}