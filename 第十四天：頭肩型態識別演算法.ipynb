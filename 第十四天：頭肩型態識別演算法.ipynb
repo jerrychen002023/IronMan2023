{
 "cells": [
  {
   "cell_type": "markdown",
   "id": "f28e4ac5-c679-47b9-a02f-1c18e31ace02",
   "metadata": {},
   "source": [
    "# 頭肩型態識別演算法"
   ]
  },
  {
   "cell_type": "markdown",
   "id": "f604aae9-efb4-4ca9-ad95-0e27e9a31c19",
   "metadata": {},
   "source": [
    "## 程式實作：頭肩型態識別函式  "
   ]
  },
  {
   "cell_type": "code",
   "execution_count": 1,
   "id": "09714634-333d-4333-aefc-b112220a79a9",
   "metadata": {},
   "outputs": [],
   "source": [
    "import pandas as pd\n",
    "import matplotlib.pyplot as plt\n",
    "import matplotlib\n",
    "import mplfinance as mpf\n",
    "import numpy as np"
   ]
  },
  {
   "cell_type": "code",
   "execution_count": 2,
   "id": "7323c045-98e3-47c5-8fa4-215a4dc40b2d",
   "metadata": {},
   "outputs": [],
   "source": [
    "# 來源 ： https://github.com/neurotrader888/TechnicalAnalysisAutomation/blob/main/head_shoulders.py\n",
    "from myutils.HeadShoulders import find_hs_patterns"
   ]
  },
  {
   "cell_type": "code",
   "execution_count": 3,
   "id": "ee5fd9d4-c333-4baa-8e84-e99ac966fcf9",
   "metadata": {},
   "outputs": [],
   "source": [
    "def FindingHeadShoulderPatterns(prices, order = 1, early_find = False) :\n",
    "    # 價格資料確認與處理\n",
    "    if prices is None and type(prices) is not DataFrame:\n",
    "        return None\n",
    "    in_prices = prices.copy()\n",
    "    if 'Open' not in in_prices.columns or 'High' not in in_prices.columns or 'Low' not in in_prices.columns or 'Close' not in in_prices.columns :\n",
    "        return None    \n",
    "    if 'Date' not in in_prices.columns and in_prices.index.dtype == 'datetime64[ns]' :\n",
    "        in_prices.index.name = 'Date'\n",
    "        in_prices = in_prices.reset_index()\n",
    "    if 'Date' not in in_prices.columns :\n",
    "        return None\n",
    "    prices_close=np.array(in_prices['Close'])\n",
    "    # 尋找頭肩型態\n",
    "    hs_patterns, ihs_patterns = find_hs_patterns(prices_close, order=order, early_find=early_find)\n",
    "    # 轉換為輸出格式\n",
    "    patterns = []\n",
    "    for pattern in hs_patterns:\n",
    "        pattern_points = []\n",
    "        # 頭肩型態的左肩\n",
    "        pattern_points.append([pattern.l_shoulder,in_prices.iloc[pattern.l_shoulder]['Date'].strftime(\"%Y-%m-%d\"),pattern.l_shoulder_p])\n",
    "        # 頭肩型態的左腋窩\n",
    "        pattern_points.append([pattern.l_armpit,in_prices.iloc[pattern.l_armpit]['Date'].strftime(\"%Y-%m-%d\"),pattern.l_armpit_p])\n",
    "        # 頭肩型態的頭\n",
    "        pattern_points.append([pattern.head,in_prices.iloc[pattern.head]['Date'].strftime(\"%Y-%m-%d\"),pattern.head_p])\n",
    "        # 頭肩型態的右腋窩\n",
    "        pattern_points.append([pattern.r_armpit,in_prices.iloc[pattern.r_armpit]['Date'].strftime(\"%Y-%m-%d\"),pattern.r_armpit_p])\n",
    "        # 頭肩型態的右肩\n",
    "        pattern_points.append([pattern.r_shoulder,in_prices.iloc[pattern.r_shoulder]['Date'].strftime(\"%Y-%m-%d\"),pattern.r_shoulder_p])\n",
    "        \n",
    "        # 頸線開始與結束日期及價格\n",
    "        neckline_start_date  = in_prices.iloc[pattern.start_i]['Date'].strftime(\"%Y-%m-%d\")\n",
    "        neckline_start_price = pattern.neck_start\n",
    "        neckline_end_date    = in_prices.iloc[pattern.break_i]['Date'].strftime(\"%Y-%m-%d\")\n",
    "        neckline_end_price   = pattern.neck_end\n",
    "        neckline_info = {'start_date' : neckline_start_date,'start_price' : neckline_start_price, 'end_date' : neckline_end_date, 'end_price' : neckline_end_price}\n",
    "        \n",
    "        # 頭肩型態的頭部資訊\n",
    "        head_info = { 'width': pattern.head_width, 'height': pattern.head_height }\n",
    "        \n",
    "        # 頭肩頂\n",
    "        patterns.append({ 'type': 'Top', 'points': pattern_points, 'neckline': neckline_info, 'head': head_info })\n",
    "    for pattern in ihs_patterns:\n",
    "        pattern_points = []\n",
    "        # 頭肩型態的左肩\n",
    "        pattern_points.append([pattern.l_shoulder,in_prices.iloc[pattern.l_shoulder]['Date'].strftime(\"%Y-%m-%d\"),pattern.l_shoulder_p])\n",
    "        # 頭肩型態的左腋窩\n",
    "        pattern_points.append([pattern.l_armpit,in_prices.iloc[pattern.l_armpit]['Date'].strftime(\"%Y-%m-%d\"),pattern.l_armpit_p])\n",
    "        # 頭肩型態的頭\n",
    "        pattern_points.append([pattern.head,in_prices.iloc[pattern.head]['Date'].strftime(\"%Y-%m-%d\"),pattern.head_p])\n",
    "        # 頭肩型態的右腋窩\n",
    "        pattern_points.append([pattern.r_armpit,in_prices.iloc[pattern.r_armpit]['Date'].strftime(\"%Y-%m-%d\"),pattern.r_armpit_p])\n",
    "        # 頭肩型態的右肩\n",
    "        pattern_points.append([pattern.r_shoulder,in_prices.iloc[pattern.r_shoulder]['Date'].strftime(\"%Y-%m-%d\"),pattern.r_shoulder_p])\n",
    "        \n",
    "        # 頸線開始與結束日期及價格\n",
    "        neckline_start_date  = in_prices.iloc[pattern.start_i]['Date'].strftime(\"%Y-%m-%d\")\n",
    "        neckline_start_price = pattern.neck_start\n",
    "        neckline_end_date    = in_prices.iloc[pattern.break_i]['Date'].strftime(\"%Y-%m-%d\")\n",
    "        neckline_end_price   = pattern.neck_end\n",
    "        neckline_info = {'start_date' : neckline_start_date,'start_price' : neckline_start_price, 'end_date' : neckline_end_date, 'end_price' : neckline_end_price}\n",
    "        \n",
    "        # 頭肩型態的頭部資訊\n",
    "        head_info = { 'width': pattern.head_width, 'height': pattern.head_height }\n",
    "        \n",
    "        # 頭肩底\n",
    "        patterns.append({ 'type': 'Bottom', 'points': pattern_points, 'neckline': neckline_info, 'head': head_info })\n",
    "    return patterns"
   ]
  },
  {
   "cell_type": "markdown",
   "id": "fb616afa-6e8a-4233-a413-b4fa5fc644c3",
   "metadata": {},
   "source": [
    "## 程式實作：識別頭肩底型態"
   ]
  },
  {
   "cell_type": "code",
   "execution_count": 4,
   "id": "7030bd78-86b5-4f2e-adfb-955eac721d19",
   "metadata": {},
   "outputs": [],
   "source": [
    "##### 使用2022年2月25日到2023年4月7日之日線圖資料 #####\n",
    "\n",
    "# 載入從「好神通PLUS」輸出的Excel檔\n",
    "df = pd.read_excel('Day13_Day14_Day24.xlsx')\n",
    "\n",
    "# 保存K線的基本資訊(開、高、低、收、量)\n",
    "df_k_line = df.drop(columns=['SMA5','SMA10','SMA20','SMA60','SMA120','SMA240','MA5','MA10'])\n",
    "\n",
    "# 保存價的移動平均線\n",
    "df_sma = df.drop(columns=['開盤價','最高價','最低價','收盤價','成交量','MA5','MA10']) \n",
    "\n",
    "# 將K線的Columns的名稱由中文改為英文\n",
    "df_k_line = df_k_line.rename(columns={'時間':'Date','開盤價':'Open','最高價':'High','最低價':'Low','收盤價':'Close','成交量':'Volume'})\n",
    "\n",
    "# 將價的移動平均線的Columns的名稱由中文改為英文\n",
    "df_sma = df_sma.rename(columns={'時間':'Date'})\n",
    "\n",
    "# 將K線的Date設為Index\n",
    "df_k_line.set_index(df_k_line['Date'],inplace=True)\n",
    "df_k_line = df_k_line.drop(columns=['Date'])\n",
    "\n",
    "# 將價的移動平均線的Date設為Index\n",
    "df_sma.set_index(df_sma['Date'],inplace=True)\n",
    "df_sma = df_sma.drop(columns=['Date'])"
   ]
  },
  {
   "cell_type": "code",
   "execution_count": 5,
   "id": "b53377ab-3b55-44fe-9553-25becc2e638f",
   "metadata": {},
   "outputs": [
    {
     "name": "stdout",
     "output_type": "stream",
     "text": [
      "[{'type': 'Bottom', 'points': [[111, '2022-08-08', 50.8], [130, '2022-09-02', 58.0], [157, '2022-10-13', 39.4], [192, '2022-12-01', 58.4], [209, '2022-12-26', 51.4]], 'neckline': {'start_date': '2022-07-20', 'start_price': 57.79354838709678, 'end_date': '2023-01-09', 'end_price': 58.567741935483866}, 'head': {'width': 62, 'height': 18.774193548387096}}]\n"
     ]
    },
    {
     "data": {
      "image/png": "[encoded data removed]",
      "text/plain": [
       "<Figure size 1092.5x575 with 2 Axes>"
      ]
     },
     "metadata": {},
     "output_type": "display_data"
    }
   ],
   "source": [
    "patterns = FindingHeadShoulderPatterns(df_k_line, 10)\n",
    "print(patterns)\n",
    "\n",
    "for pattern in patterns :\n",
    "    pattern_points_len = len(np.array(df_k_line['Close']))\n",
    "    pattern_points = np.array([np.nan]*pattern_points_len)\n",
    "    head_shoulder_points = pattern['points']\n",
    "    pattern_points[head_shoulder_points[0][0]] = head_shoulder_points[0][2]\n",
    "    pattern_points[head_shoulder_points[1][0]] = head_shoulder_points[1][2]\n",
    "    pattern_points[head_shoulder_points[2][0]] = head_shoulder_points[2][2]\n",
    "    pattern_points[head_shoulder_points[3][0]] = head_shoulder_points[3][2]\n",
    "    pattern_points[head_shoulder_points[4][0]] = head_shoulder_points[4][2]\n",
    "    head_shoulder_neckline = pattern['neckline']\n",
    "    head_shoulder_head     = pattern['head']\n",
    "    # 設定K線格式\n",
    "    mc = mpf.make_marketcolors(up='xkcd:light red', down='xkcd:almost black', inherit=True)\n",
    "    s  = mpf.make_mpf_style(base_mpf_style='yahoo', marketcolors=mc)\n",
    "    # 設定頸線\n",
    "    seq_of_seq_of_points=[\n",
    "        [(head_shoulder_neckline['start_date'],head_shoulder_neckline['start_price']),(head_shoulder_neckline['end_date'],head_shoulder_neckline['end_price'])]\n",
    "    ]\n",
    "    # 設定轉折點\n",
    "    apds = [\n",
    "        mpf.make_addplot(pattern_points,type='scatter',marker='o',markersize=50,color='xkcd:sky blue')\n",
    "    ]\n",
    "    # 繪出K線圖\n",
    "    kwargs = dict(type='candle', style=s, figratio=(19,10), addplot=apds,alines=dict(alines=seq_of_seq_of_points, linewidths=1.2, colors='xkcd:azure', alpha=0.6), datetime_format='%Y-%m-%d')\n",
    "    mpf.plot(df_k_line,**kwargs)"
   ]
  }
 ],
 "metadata": {
  "kernelspec": {
   "display_name": "Python 3 (ipykernel)",
   "language": "python",
   "name": "python3"
  },
  "language_info": {
   "codemirror_mode": {
    "name": "ipython",
    "version": 3
   },
   "file_extension": ".py",
   "mimetype": "text/x-python",
   "name": "python",
   "nbconvert_exporter": "python",
   "pygments_lexer": "ipython3",
   "version": "3.8.15"
  }
 },
 "nbformat": 4,
 "nbformat_minor": 5
}
