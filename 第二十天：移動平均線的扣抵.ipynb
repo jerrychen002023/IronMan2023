{
 "cells": [
  {
   "cell_type": "markdown",
   "id": "2964114c-2a9c-40d1-9298-ea4214740417",
   "metadata": {},
   "source": [
    "# 移動平均線的扣抵"
   ]
  },
  {
   "cell_type": "markdown",
   "id": "c07774c8-1f50-4936-8625-d6d06657a850",
   "metadata": {},
   "source": [
    "## 程式實作：試算扣抵並預測20日移動平均線何時下彎"
   ]
  },
  {
   "cell_type": "code",
   "execution_count": 1,
   "id": "09ad4e53-27ab-41a2-afe0-7d979b048b78",
   "metadata": {},
   "outputs": [],
   "source": [
    "import pandas as pd\n",
    "import matplotlib.pyplot as plt\n",
    "import matplotlib\n",
    "import mplfinance as mpf\n",
    "import numpy as np"
   ]
  },
  {
   "cell_type": "code",
   "execution_count": 2,
   "id": "331137d6-6901-4f8b-b4ce-6131bfc90c2b",
   "metadata": {},
   "outputs": [],
   "source": [
    "def date_to_index(df_in,date_in) :\n",
    "    number_array = df_in.index == date_in\n",
    "    idx = 0\n",
    "    for number_index in number_array :\n",
    "        if number_index == True :\n",
    "            break\n",
    "        idx = idx + 1\n",
    "    return idx"
   ]
  },
  {
   "cell_type": "code",
   "execution_count": 3,
   "id": "ca3874a2-66de-4914-baa2-1188f580d9ee",
   "metadata": {},
   "outputs": [],
   "source": [
    "##### 使用2022年4月24日到2023年7月6日之日線圖資料 #####\n",
    "\n",
    "# 載入從「好神通PLUS」輸出的Excel檔\n",
    "df = pd.read_excel('Day20.xlsx')\n",
    "\n",
    "# 保存K線的基本資訊(開、高、低、收、量)\n",
    "df_k_line = df.drop(columns=['SMA20','MA5','MA10'])\n",
    "\n",
    "# 保存價的移動平均線\n",
    "df_sma = df.drop(columns=['開盤價','最高價','最低價','收盤價','成交量','MA5','MA10']) \n",
    "\n",
    "# 將K線的Columns的名稱由中文改為英文\n",
    "df_k_line = df_k_line.rename(columns={'時間':'Date','開盤價':'Open','最高價':'High','最低價':'Low','收盤價':'Close','成交量':'Volume'})\n",
    "\n",
    "# 將價的移動平均線的Columns的名稱由中文改為英文\n",
    "df_sma = df_sma.rename(columns={'時間':'Date'})\n",
    "\n",
    "# 設定今天日期\n",
    "today_date = df_k_line.iloc[-1]['Date'].strftime(\"%Y-%m-%d\")\n",
    "\n",
    "# 將K線的Date設為Index\n",
    "df_k_line.set_index(df_k_line['Date'],inplace=True)\n",
    "df_k_line = df_k_line.drop(columns=['Date'])\n",
    "\n",
    "# 將價的移動平均線的Date設為Index\n",
    "df_sma.set_index(df_sma['Date'],inplace=True)\n",
    "df_sma = df_sma.drop(columns=['Date'])"
   ]
  },
  {
   "cell_type": "code",
   "execution_count": 4,
   "id": "93ac9c58-996d-4819-befa-65a962bf25f7",
   "metadata": {},
   "outputs": [
    {
     "name": "stdout",
     "output_type": "stream",
     "text": [
      "扣小加大 ： 2023-05-16 扣小(43.60) , 加大(44.60)\n",
      "扣小加大 ： 2023-05-17 扣小(43.95) , 加大(44.60)\n",
      "扣小加大 ： 2023-05-18 扣小(44.40) , 加大(44.60)\n",
      "扣大加小 ： 2023-05-19 扣大(45.15) , 加小(44.60)\n",
      "預計第4天後移動平均線下彎\n"
     ]
    }
   ],
   "source": [
    "# 設定資料區間：區間的最後一天當作為「當前」的日期\n",
    "df_k_line_range = df_k_line['2023-04-21':'2023-06-09']\n",
    "\n",
    "# 「當前」的日期的股價之價位\n",
    "current_price = df_k_line_range.iloc[-1]['Close']\n",
    "\n",
    "# 設定20日移動平均線扣抵開始日期並取得其索引\n",
    "deduction_date_idx = date_to_index(df_k_line_range,df_k_line_range.iloc[-20].name.strftime(\"%Y-%m-%d\"))\n",
    "\n",
    "# 取得總筆數\n",
    "row, _ = df_k_line_range.shape\n",
    "\n",
    "# 扣抵判斷\n",
    "predict_days = 0\n",
    "for idx in range(deduction_date_idx+1,row) :\n",
    "    deduction_price = df_k_line_range.iloc[idx]['Close']\n",
    "    if deduction_price < current_price  :\n",
    "        print('扣小加大 ： {} 扣小({:.2f}) , 加大({:.2f})'.format(df_k_line_range.iloc[idx].name.strftime(\"%Y-%m-%d\"),deduction_price,current_price))\n",
    "    elif df_k_line_range.iloc[idx]['Close'] > current_price  :\n",
    "        print('扣大加小 ： {} 扣大({:.2f}) , 加小({:.2f})'.format(df_k_line_range.iloc[idx].name.strftime(\"%Y-%m-%d\"),deduction_price,current_price))\n",
    "        # 以此案例，當出現「扣大加小」時跳出\n",
    "        predict_days = predict_days + 1\n",
    "        break\n",
    "    predict_days = predict_days + 1\n",
    "print('預計第{}天後移動平均線下彎'.format(predict_days))"
   ]
  },
  {
   "cell_type": "code",
   "execution_count": 5,
   "id": "1066a41d-730e-4156-90e7-9f539877fc6d",
   "metadata": {},
   "outputs": [
    {
     "name": "stdout",
     "output_type": "stream",
     "text": [
      "2023-06-12 ： 移動平均線上揚\n",
      "2023-06-13 ： 移動平均線上揚\n",
      "2023-06-14 ： 移動平均線上揚\n",
      "2023-06-15 ： 移動平均線走平\n",
      "2023-06-16 ： 移動平均線下彎\n",
      "實際第5天後移動平均線下彎\n"
     ]
    }
   ],
   "source": [
    "# 設定資料區間\n",
    "df_sma_range = df_sma['2023-06-09':]\n",
    "# 從「當前」的日期往後確認20日移動平均線的趨勢\n",
    "relay_days = 0\n",
    "for idx in range(1,len(df_sma_range)) :\n",
    "    if df_sma_range.iloc[idx]['SMA20'] > df_sma_range.iloc[idx-1]['SMA20'] :\n",
    "        print('{} ： 移動平均線上揚'.format(df_sma_range.iloc[idx].name.strftime(\"%Y-%m-%d\")))\n",
    "    elif df_sma_range.iloc[idx]['SMA20'] < df_sma_range.iloc[idx-1]['SMA20'] :\n",
    "        print('{} ： 移動平均線下彎'.format(df_sma_range.iloc[idx].name.strftime(\"%Y-%m-%d\")))\n",
    "        # 以此案例，當出現「移動平均線下彎」時跳出\n",
    "        relay_days = relay_days + 1\n",
    "        break\n",
    "    else :\n",
    "        print('{} ： 移動平均線走平'.format(df_sma_range.iloc[idx].name.strftime(\"%Y-%m-%d\")))\n",
    "    relay_days = relay_days + 1\n",
    "print('實際第{}天後移動平均線下彎'.format(relay_days))    "
   ]
  }
 ],
 "metadata": {
  "kernelspec": {
   "display_name": "Python 3 (ipykernel)",
   "language": "python",
   "name": "python3"
  },
  "language_info": {
   "codemirror_mode": {
    "name": "ipython",
    "version": 3
   },
   "file_extension": ".py",
   "mimetype": "text/x-python",
   "name": "python",
   "nbconvert_exporter": "python",
   "pygments_lexer": "ipython3",
   "version": "3.8.15"
  }
 },
 "nbformat": 4,
 "nbformat_minor": 5
}
